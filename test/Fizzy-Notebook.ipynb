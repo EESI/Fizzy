{
 "metadata": {
  "name": "",
  "signature": "sha256:6140e02a6631d37ac6568d60d230bd60a97d14b907d9f9bc08c327e78c1085d8"
 },
 "nbformat": 3,
 "nbformat_minor": 0,
 "worksheets": [
  {
   "cells": [
    {
     "cell_type": "markdown",
     "metadata": {},
     "source": [
      "# Evaluating Fizzy \n",
      "\n",
      "Fizzy is a Python script that is called at the shell. Its pretty simple and you can call `fizzy -h` to get help. "
     ]
    },
    {
     "cell_type": "code",
     "collapsed": false,
     "input": [
      "%%bash \n",
      "cp ../src/fizzy .\n",
      "./fizzy -l SEX -f MIM -i caporaso-gut.biom -m caporaso-gut.txt -o results.txt -n 1000"
     ],
     "language": "python",
     "metadata": {},
     "outputs": []
    },
    {
     "cell_type": "markdown",
     "metadata": {},
     "source": [
      "# Examining the Results"
     ]
    },
    {
     "cell_type": "code",
     "collapsed": false,
     "input": [
      "%%bash \n",
      "cat results.txt | sed -e \"s/\\[//g\" -e \"s/\\]//g\" -e \"s/\\\"//g\" -e \"s/(class)//g\" -e \"s/ //g\""
     ],
     "language": "python",
     "metadata": {},
     "outputs": [
      {
       "output_type": "stream",
       "stream": "stdout",
       "text": [
        "k__Bacteria,p__Actinobacteria,c__Actinobacteria,o__Coriobacteriales,f__Coriobacteriaceae,g__Slackia,s__\n",
        "k__Bacteria,p__Actinobacteria,c__Actinobacteria,o__Coriobacteriales,f__Coriobacteriaceae,g__Slackia,s__\n",
        "k__Bacteria,p__Actinobacteria,c__Actinobacteria,o__Coriobacteriales,f__Coriobacteriaceae,g__Slackia,s__\n",
        "k__Bacteria,p__Actinobacteria,c__Actinobacteria,o__Coriobacteriales,f__Coriobacteriaceae,g__Slackia,s__\n",
        "k__Bacteria,p__Actinobacteria,c__Actinobacteria,o__Coriobacteriales,f__Coriobacteriaceae,g__Slackia,s__\n",
        "k__Bacteria,p__Actinobacteria,c__Actinobacteria,o__Coriobacteriales,f__Coriobacteriaceae,g__Slackia,s__\n",
        "k__Bacteria,p__Actinobacteria,c__Actinobacteria,o__Coriobacteriales,f__Coriobacteriaceae,g__Slackia,s__\n",
        "k__Bacteria,p__Actinobacteria,c__Actinobacteria,o__Coriobacteriales,f__Coriobacteriaceae,g__Slackia,s__\n",
        "k__Bacteria,p__Actinobacteria,c__Actinobacteria,o__Coriobacteriales,f__Coriobacteriaceae,g__Slackia,s__\n",
        "k__Bacteria,p__Actinobacteria,c__Actinobacteria,o__Coriobacteriales,f__Coriobacteriaceae,g__Slackia,s__\n",
        "k__Bacteria,p__Actinobacteria,c__Actinobacteria,o__Coriobacteriales,f__Coriobacteriaceae,g__Slackia,s__\n",
        "k__Bacteria,p__Actinobacteria,c__Actinobacteria,o__Coriobacteriales,f__Coriobacteriaceae,g__Slackia,s__\n",
        "k__Bacteria,p__Actinobacteria,c__Actinobacteria,o__Coriobacteriales,f__Coriobacteriaceae,g__Slackia,s__\n",
        "k__Bacteria,p__Actinobacteria,c__Actinobacteria,o__Coriobacteriales,f__Coriobacteriaceae,g__Slackia,s__\n",
        "k__Bacteria,p__Actinobacteria,c__Actinobacteria,o__Coriobacteriales,f__Coriobacteriaceae,g__Slackia,s__\n"
       ]
      }
     ],
     "prompt_number": 11
    },
    {
     "cell_type": "code",
     "collapsed": false,
     "input": [],
     "language": "python",
     "metadata": {},
     "outputs": []
    }
   ],
   "metadata": {}
  }
 ]
}