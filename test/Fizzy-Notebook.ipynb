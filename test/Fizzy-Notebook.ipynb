{
 "metadata": {
  "name": "",
  "signature": "sha256:ad68718310ddfeeecd210fb75717cd1144e0f261de5db9d5e41db6d0608ca579"
 },
 "nbformat": 3,
 "nbformat_minor": 0,
 "worksheets": [
  {
   "cells": [
    {
     "cell_type": "markdown",
     "metadata": {},
     "source": [
      "# Evaluating Fizzy \n",
      "\n",
      "Fizzy is a Python script that is called at the shell that implemented feature subset selection on biological data formats. The [PyFeast](https://github.com/EESI/PyFeast) package implements the information theoretic subset selection routines, which is built upon [FEAST](http://www.cs.man.ac.uk/~gbrown/fstoolbox/) by Gavin Brown's research group. \n",
      "\n",
      "So, why should you care about Fizzy? Lets say that you have a bunch of enviromental samples collected from the gut that are represented by the abundance of different bacteria. Furthermore, the samples were collected from `males` and  `females`. If the user is using [QIIME](http://qiime.org/) they will end up the biom and map files that represent the data and metadata, respectively. Fizzy can be used to find the OTUs that best differentiate the males and females in the study. \n",
      "\n",
      "The overall process has been made fairly pretty simple and you can call `fizzy -h` to get help on the program.\n",
      "\n",
      "## Contributors\n",
      "\n",
      "* [Gregory Ditzler](http://gregoryditzler.com) - gregory.ditzler@gmail.com\n",
      "* [Calvin Morrison](http://mutantturkey.com)\n",
      "* [Gail Rosen](www.ece.drexel.edu/gailr/)\n",
      "\n",
      "# Installing & Running Fizzy\n",
      "\n",
      "To install Fizzy, follow the instuctions below. \n",
      "```bash\n",
      "  git clone https://github.com/EESI/Fizzy.git\n",
      "  cd Fizzy/\n",
      "  sudo make install\n",
      "```\n",
      "\n",
      "Refer to the `fizzy` help for parameters that can be changed. Users have the ability to choose the number of taxonomic units that the subset selection algorithm will return, and users have access to all of the information-theoretic feature subset selection methods in PyFeast, which is a dependency of Fizzy. The output file is simply a text file, which contains the taxonomy of the OTUs that were detected as relevant. Note that the taxonomy field should be entered into the biome file, otherwise the Fizzy uses the OTU ids. \n",
      "```bash\n",
      "n2-99-194:Fizzy gditzler$ fizzy -h\n",
      "usage: fizzy [-h] [-n SELECT] -l LABEL [-f FS_METHOD] -i INPUT_FILE -m\n",
      "             MAP_FILE -o OUTPUT_FILE\n",
      "\n",
      "Fizzy implements feature subset selection for biological data formats, which\n",
      "are commonly used in metagenomic data analysis.\n",
      "\n",
      "optional arguments:\n",
      "  -h, --help            show this help message and exit\n",
      "  -n SELECT, --select SELECT\n",
      "                        number of features to select\n",
      "  -l LABEL, --label LABEL\n",
      "                        name of column of the mapping file that indicates the\n",
      "                        labels\n",
      "  -f FS_METHOD, --fs-method FS_METHOD\n",
      "                        Feature selection method. Available: CIFE CMIM CondMI\n",
      "                        Condred ICAP JMI MIM MIFS mRMR\n",
      "  -i INPUT_FILE, --input-file INPUT_FILE\n",
      "                        biom format file\n",
      "  -m MAP_FILE, --map-file MAP_FILE\n",
      "                        map file (tsv)\n",
      "  -j, --json            store the output as a json format file.\n",
      "  -o OUTPUT_FILE, --output-file OUTPUT_FILE\n",
      "                        output file where selected OTU IDs and averages of the\n",
      "                        OTUS for each classare stored\n",
      "```\n",
      "\n",
      "We have downloaded Study 550 from the [Earth Microbiome Project](earthmicrobiome.org) and seperated out the samples collected from the gut. The `SEX` column of the map file indicates the class label. "
     ]
    },
    {
     "cell_type": "code",
     "collapsed": false,
     "input": [
      "%%bash \n",
      "fizzy -l SEX -f MIM -i caporaso-gut.biom -m caporaso-gut.txt -o results.txt -n 25 --json"
     ],
     "language": "python",
     "metadata": {},
     "outputs": [],
     "prompt_number": 4
    },
    {
     "cell_type": "markdown",
     "metadata": {},
     "source": [
      "# Examining the Results\n",
      "\n",
      "The top features (i.e., OTUs) selected by Fizzy are saved in `results.txt`. With a little bit of `sed` magic we can get a nice readable output.  "
     ]
    },
    {
     "cell_type": "code",
     "collapsed": false,
     "input": [
      "import json \n",
      "obj = json.loads(open(\"results.txt\", \"rb\").read())\n",
      "for feature in obj[\"Features\"]:\n",
      "    print feature"
     ],
     "language": "python",
     "metadata": {},
     "outputs": [
      {
       "output_type": "stream",
       "stream": "stdout",
       "text": [
        "k__Bacteria,p__Bacteroidetes,c__Bacteroidia,o__Bacteroidales,f__Bacteroidaceae,g__Bacteroides,s__\n",
        "k__Bacteria,p__Bacteroidetes,c__Bacteroidia,o__Bacteroidales,f__Bacteroidaceae,g__Bacteroides,s__Bacteroidesdorei\n",
        "k__Bacteria,p__Bacteroidetes,c__Bacteroidia,o__Bacteroidales,f__Bacteroidaceae,g__Bacteroides,s__\n",
        "k__Bacteria,p__Bacteroidetes,c__Bacteroidia,o__Bacteroidales,f__Bacteroidaceae,g__Bacteroides,s__Bacteroidesuniformis\n",
        "k__Bacteria,p__Bacteroidetes,c__Bacteroidia,o__Bacteroidales,f__Bacteroidaceae,g__Bacteroides,s__Bacteroidessalyersiae\n",
        "k__Bacteria,p__Firmicutes,c__Clostridia,o__Clostridiales,f__Ruminococcaceae,g__,s__\n",
        "k__Bacteria,p__Bacteroidetes,c__Bacteroidia,o__Bacteroidales,f__Bacteroidaceae,g__Bacteroides,s__\n",
        "k__Bacteria,p__Bacteroidetes,c__Bacteroidia,o__Bacteroidales,f__Bacteroidaceae,g__Bacteroides,s__\n",
        "k__Bacteria,p__Firmicutes,c__Clostridia,o__Clostridiales,f__Ruminococcaceae,g__,s__\n",
        "k__Bacteria,p__Bacteroidetes,c__Bacteroidia,o__Bacteroidales,f__Rikenellaceae,g__Alistipes,s__Alistipesputredinis\n",
        "k__Bacteria,p__Firmicutes,c__Clostridia,o__Clostridiales,f__Lachnospiraceae,g__,s__\n",
        "k__Bacteria,p__Bacteroidetes,c__Bacteroidia,o__Bacteroidales,f__Porphyromonadaceae,g__Parabacteroides,s__Parabacteroidesjohnsonii\n",
        "k__Bacteria,p__Bacteroidetes,c__Bacteroidia,o__Bacteroidales,f__Bacteroidaceae,g__Bacteroides,s__\n",
        "k__Bacteria,p__Firmicutes,c__Clostridia,o__Clostridiales,f__Ruminococcaceae,g__Faecalibacterium,s__\n",
        "k__Bacteria,p__Firmicutes,c__Clostridia,o__Clostridiales,f__Ruminococcaceae,g__,s__\n",
        "k__Bacteria,p__Firmicutes,c__Clostridia,o__Clostridiales,f__Ruminococcaceae,g__,s__\n",
        "k__Bacteria,p__Bacteroidetes,c__Bacteroidia,o__Bacteroidales,f__Bacteroidaceae,g__Bacteroides,s__\n",
        "k__Bacteria,p__Bacteroidetes,c__Bacteroidia,o__Bacteroidales,f__Porphyromonadaceae,g__Parabacteroides,s__Parabacteroidesdistasonis\n",
        "k__Bacteria,p__Firmicutes,c__Clostridia,o__Clostridiales,f__Ruminococcaceae,g__,s__\n",
        "k__Bacteria,p__Bacteroidetes,c__Bacteroidia,o__Bacteroidales,f__Rikenellaceae,g__,s__\n",
        "k__Bacteria,p__Firmicutes,c__Clostridia,o__Clostridiales,f__Ruminococcaceae,g__,s__\n",
        "k__Bacteria,p__Firmicutes,c__Clostridia,o__Clostridiales,f__Ruminococcaceae,g__,s__\n",
        "k__Bacteria,p__Bacteroidetes,c__Bacteroidia,o__Bacteroidales,f__Porphyromonadaceae,g__Parabacteroides,s__Parabacteroidesdistasonis\n",
        "k__Bacteria,p__Firmicutes,c__Clostridia,o__Clostridiales,f__Ruminococcaceae,g__Ruminococcus,s__\n",
        "k__Bacteria,p__Verrucomicrobia,c__Verrucomicrobiae,o__Verrucomicrobiales,f__Verrucomicrobiaceae,g__Akkermansia,s__Akkermansiamuciniphila\n"
       ]
      }
     ],
     "prompt_number": 5
    },
    {
     "cell_type": "code",
     "collapsed": false,
     "input": [
      "for i in range(len(obj[\"Features\"])):\n",
      "    print \"Male: \" + str(obj[\"male\"][i]) + \"; Female: \" + str(obj[\"female\"][i])"
     ],
     "language": "python",
     "metadata": {},
     "outputs": [
      {
       "output_type": "stream",
       "stream": "stdout",
       "text": [
        "Male: 0.0348626615989; Female: 0.295586178449\n",
        "Male: 0.186001657757; Female: 0.0101627613255\n",
        "Male: 0.0665117194061; Female: 0.121604864876\n",
        "Male: 0.0997267188013; Female: 0.0605228600111\n",
        "Male: 0.00645644189386; Female: 9.63098646016e-07\n",
        "Male: 0.00639165321511; Female: 3.86912142363e-07\n",
        "Male: 2.35302365403e-05; Female: 0.000603341221098\n",
        "Male: 0.0367984992002; Female: 0.0244226535617\n",
        "Male: 0.00236128503711; Female: 4.29661636831e-07\n",
        "Male: 0.021136022263; Female: 0.000272982568156\n",
        "Male: 2.44400249245e-07; Female: 0.000266523364218\n",
        "Male: 0.00489429165244; Female: 8.07994779404e-06\n",
        "Male: 0.0581949916423; Female: 3.9478057444e-05\n",
        "Male: 0.0343427317922; Female: 0.0191967490092\n",
        "Male: 0.00593601328225; Female: 1.9252250165e-06\n",
        "Male: 0.00029625774726; Female: 0.0\n",
        "Male: 0.00135051502742; Female: 1.50095288839e-05\n",
        "Male: 0.0150664702429; Female: 4.60417507831e-06\n",
        "Male: 0.00605748028175; Female: 9.89447790396e-07\n",
        "Male: 0.000559737355378; Female: 0.0\n",
        "Male: 0.00083194212954; Female: 4.13771911743e-07\n",
        "Male: 0.00134401729339; Female: 2.30350577454e-07\n",
        "Male: 0.00755637930636; Female: 2.90047135435e-06\n",
        "Male: 3.98755096537e-05; Female: 0.00186983542383\n",
        "Male: 0.0149411594683; Female: 0.105213357043\n"
       ]
      }
     ],
     "prompt_number": 6
    },
    {
     "cell_type": "code",
     "collapsed": false,
     "input": [
      "%%bash \n",
      "npfs -l SEX -f MIM -i caporaso-gut.biom -m caporaso-gut.txt -o results-npfs.txt -n 25 -c 5 -b 10"
     ],
     "language": "python",
     "metadata": {},
     "outputs": [],
     "prompt_number": 7
    },
    {
     "cell_type": "code",
     "collapsed": false,
     "input": [],
     "language": "python",
     "metadata": {},
     "outputs": []
    }
   ],
   "metadata": {}
  }
 ]
}