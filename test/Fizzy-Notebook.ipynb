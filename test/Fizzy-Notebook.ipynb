{
 "metadata": {
  "name": "",
  "signature": "sha256:6ba37da126981ce45abf9395760b7ee566ebed2878a66801421e25a627f43a60"
 },
 "nbformat": 3,
 "nbformat_minor": 0,
 "worksheets": [
  {
   "cells": [
    {
     "cell_type": "markdown",
     "metadata": {},
     "source": [
      "# Evaluating Fizzy \n",
      "\n",
      "Fizzy is a Python script that is called at the shell that implemented feature subset selection on biological data formats. The [PyFeast](https://github.com/EESI/PyFeast) package implements the information theoretic subset selection routines, which is built upon [FEAST](http://www.cs.man.ac.uk/~gbrown/fstoolbox/) by Gavin Brown's research group. \n",
      "\n",
      "So, why should you care about Fizzy? Lets say that you have a bunch of enviromental samples collected from the gut that are represented by the abundance of different bacteria. Furthermore, the samples were collected from `males` and  `females`. If the user is using [QIIME](http://qiime.org/) they will end up the biom and map files that represent the data and metadata, respectively. Fizzy can be used to find the OTUs that best differentiate the males and females in the study. \n",
      "\n",
      "The overall process has been made fairly pretty simple and you can call `fizzy -h` to get help on the program.\n",
      "\n",
      "## Contributors\n",
      "\n",
      "* [Gregory Ditzler](http://gregoryditzler.com)\n",
      "* [Calvin Morrison](http://mutantturkey.com)\n",
      "* [Gail Rosen](www.ece.drexel.edu/gailr/)\n",
      "\n",
      "# Installing & Running Fizzy\n",
      "\n",
      "To install Fizzy, follow the instuctions below. \n",
      "```bash\n",
      "  git clone https://github.com/EESI/Fizzy.git\n",
      "  cd Fizzy/src\n",
      "  sudo cp fizzy /usr/local/bin/\n",
      "```\n",
      "\n",
      "Refer to the `fizzy` help for parameters that can be changed\n",
      "```bash\n",
      "n2-99-194:Fizzy gditzler$ fizzy -h\n",
      "usage: fizzy [-h] [-n SELECT] -l LABEL [-f FS_METHOD] -i INPUT_FILE -m\n",
      "             MAP_FILE -o OUTPUT_FILE\n",
      "\n",
      "Fizzy implements feature subset selection for biological data formats, which\n",
      "are commonly used in metagenomic data analysis.\n",
      "\n",
      "optional arguments:\n",
      "  -h, --help            show this help message and exit\n",
      "  -n SELECT, --select SELECT\n",
      "                        number of features to select\n",
      "  -l LABEL, --label LABEL\n",
      "                        name of column of the mapping file that indicates the\n",
      "                        labels\n",
      "  -f FS_METHOD, --fs-method FS_METHOD\n",
      "                        Feature selection method. Available: CIFE CMIM CondMI\n",
      "                        Condred ICAP JMI MIM MIFS mRMR\n",
      "  -i INPUT_FILE, --input-file INPUT_FILE\n",
      "                        biom format file\n",
      "  -m MAP_FILE, --map-file MAP_FILE\n",
      "                        CSV mapping file\n",
      "  -o OUTPUT_FILE, --output-file OUTPUT_FILE\n",
      "                        output file where selected OTU IDs are stored\n",
      "```\n",
      "\n",
      "We have downloaded Study 550 from the [Earth Microbiome Project](earthmicrobiome.org) and seperated out the samples collected from the gut. The `SEX` column of the map file indicates the class label. "
     ]
    },
    {
     "cell_type": "code",
     "collapsed": false,
     "input": [
      "%%bash \n",
      "fizzy -l SEX -f MIM -i caporaso-gut.biom -m caporaso-gut.txt -o results.txt -n 15"
     ],
     "language": "python",
     "metadata": {},
     "outputs": [],
     "prompt_number": 1
    },
    {
     "cell_type": "markdown",
     "metadata": {},
     "source": [
      "# Examining the Results\n",
      "\n",
      "The top features (i.e., OTUs) selected by Fizzy are saved in `results.txt`. With a little bit of `sed` magic we can get a noce readable output.  "
     ]
    },
    {
     "cell_type": "code",
     "collapsed": false,
     "input": [
      "%%bash \n",
      "cat results.txt | sed -e \"s/\\[//g\" -e \"s/\\]//g\" -e \"s/\\\"//g\" -e \"s/(class)//g\" -e \"s/ //g\""
     ],
     "language": "python",
     "metadata": {},
     "outputs": [
      {
       "output_type": "stream",
       "stream": "stdout",
       "text": [
        "k__Bacteria,p__Bacteroidetes,c__Bacteroidia,o__Bacteroidales,f__Bacteroidaceae,g__Bacteroides,s__\n",
        "k__Bacteria,p__Bacteroidetes,c__Bacteroidia,o__Bacteroidales,f__Bacteroidaceae,g__Bacteroides,s__Bacteroidesdorei\n",
        "k__Bacteria,p__Bacteroidetes,c__Bacteroidia,o__Bacteroidales,f__Bacteroidaceae,g__Bacteroides,s__\n",
        "k__Bacteria,p__Bacteroidetes,c__Bacteroidia,o__Bacteroidales,f__Bacteroidaceae,g__Bacteroides,s__Bacteroidesuniformis\n",
        "k__Bacteria,p__Bacteroidetes,c__Bacteroidia,o__Bacteroidales,f__Bacteroidaceae,g__Bacteroides,s__Bacteroidessalyersiae\n",
        "k__Bacteria,p__Firmicutes,c__Clostridia,o__Clostridiales,f__Ruminococcaceae,g__,s__\n",
        "k__Bacteria,p__Bacteroidetes,c__Bacteroidia,o__Bacteroidales,f__Bacteroidaceae,g__Bacteroides,s__\n",
        "k__Bacteria,p__Bacteroidetes,c__Bacteroidia,o__Bacteroidales,f__Bacteroidaceae,g__Bacteroides,s__\n",
        "k__Bacteria,p__Firmicutes,c__Clostridia,o__Clostridiales,f__Ruminococcaceae,g__,s__\n",
        "k__Bacteria,p__Bacteroidetes,c__Bacteroidia,o__Bacteroidales,f__Rikenellaceae,g__Alistipes,s__Alistipesputredinis\n",
        "k__Bacteria,p__Firmicutes,c__Clostridia,o__Clostridiales,f__Lachnospiraceae,g__,s__\n",
        "k__Bacteria,p__Bacteroidetes,c__Bacteroidia,o__Bacteroidales,f__Porphyromonadaceae,g__Parabacteroides,s__Parabacteroidesjohnsonii\n",
        "k__Bacteria,p__Bacteroidetes,c__Bacteroidia,o__Bacteroidales,f__Bacteroidaceae,g__Bacteroides,s__\n",
        "k__Bacteria,p__Firmicutes,c__Clostridia,o__Clostridiales,f__Ruminococcaceae,g__Faecalibacterium,s__\n",
        "k__Bacteria,p__Firmicutes,c__Clostridia,o__Clostridiales,f__Ruminococcaceae,g__,s__\n"
       ]
      }
     ],
     "prompt_number": 2
    },
    {
     "cell_type": "code",
     "collapsed": false,
     "input": [],
     "language": "python",
     "metadata": {},
     "outputs": []
    }
   ],
   "metadata": {}
  }
 ]
}