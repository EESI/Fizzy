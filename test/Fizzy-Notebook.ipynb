{
 "metadata": {
  "name": "",
  "signature": "sha256:6821a28826c785bd987a1f465b0344c29ec7fe5e2f6d1758c2a66693585a1f72"
 },
 "nbformat": 3,
 "nbformat_minor": 0,
 "worksheets": [
  {
   "cells": [
    {
     "cell_type": "markdown",
     "metadata": {},
     "source": [
      "# Evaluating Fizzy \n",
      "\n",
      "Fizzy is a Python script that is called at the shell that implemented feature subset selection on biological data formats. The [PyFeast](https://github.com/EESI/PyFeast) package implements the information theoretic subset selection routines, which is built upon [FEAST](http://www.cs.man.ac.uk/~gbrown/fstoolbox/) by Gavin Brown's research group. \n",
      "\n",
      "So, why should you care about Fizzy? Lets say that you have a bunch of enviromental samples collected from the gut that are represented by the abundance of different bacteria. Furthermore, the samples were collected from `males` and  `females`. If the user is using [QIIME](http://qiime.org/) they will end up the biom and map files that represent the data and metadata, respectively. Fizzy can be used to find the OTUs that best differentiate the males and females in the study. \n",
      "\n",
      "The overall process has been made fairly pretty simple and you can call `fizzy -h` to get help on the program.\n",
      "\n",
      "## Contributors\n",
      "\n",
      "* [Gregory Ditzler](http://gregoryditzler.com) - gregory.ditzler@gmail.com\n",
      "* [Calvin Morrison](http://mutantturkey.com)\n",
      "* [Gail Rosen](www.ece.drexel.edu/gailr/)\n",
      "\n",
      "# Installing & Running Fizzy\n",
      "\n",
      "To install Fizzy, follow the instuctions below. \n",
      "```bash\n",
      "  git clone https://github.com/EESI/Fizzy.git\n",
      "  cd Fizzy/\n",
      "  sudo make install\n",
      "```\n",
      "\n",
      "Refer to the `fizzy` help for parameters that can be changed. Users have the ability to choose the number of taxonomic units that the subset selection algorithm will return, and users have access to all of the information-theoretic feature subset selection methods in PyFeast, which is a dependency of Fizzy. The output file is simply a text file, which contains the taxonomy of the OTUs that were detected as relevant. Note that the taxonomy field should be entered into the biome file, otherwise the Fizzy uses the OTU ids. \n",
      "```bash\n",
      "n2-99-194:Fizzy gditzler$ fizzy -h\n",
      "usage: fizzy [-h] [-n SELECT] -l LABEL [-f FS_METHOD] -i INPUT_FILE -m\n",
      "             MAP_FILE -o OUTPUT_FILE\n",
      "\n",
      "Fizzy implements feature subset selection for biological data formats, which\n",
      "are commonly used in metagenomic data analysis.\n",
      "\n",
      "optional arguments:\n",
      "  -h, --help            show this help message and exit\n",
      "  -n SELECT, --select SELECT\n",
      "                        number of features to select\n",
      "  -l LABEL, --label LABEL\n",
      "                        name of column of the mapping file that indicates the\n",
      "                        labels\n",
      "  -f FS_METHOD, --fs-method FS_METHOD\n",
      "                        Feature selection method. Available: CIFE CMIM CondMI\n",
      "                        Condred ICAP JMI MIM MIFS mRMR\n",
      "  -i INPUT_FILE, --input-file INPUT_FILE\n",
      "                        biom format file\n",
      "  -m MAP_FILE, --map-file MAP_FILE\n",
      "                        map file (tsv)\n",
      "  -j, --json            store the output as a json format file.\n",
      "  -o OUTPUT_FILE, --output-file OUTPUT_FILE\n",
      "                        output file where selected OTU IDs and averages of the\n",
      "                        OTUS for each classare stored\n",
      "```\n",
      "\n",
      "We have downloaded Study 550 from the [Earth Microbiome Project](earthmicrobiome.org) and seperated out the samples collected from the gut. The `SEX` column of the map file indicates the class label. "
     ]
    },
    {
     "cell_type": "code",
     "collapsed": false,
     "input": [
      "%%bash \n",
      "fizzy -l SEX -f MIM -i caporaso-gut.biom -m caporaso-gut.txt -o results.txt -n 25 --json"
     ],
     "language": "python",
     "metadata": {},
     "outputs": [],
     "prompt_number": 2
    },
    {
     "cell_type": "markdown",
     "metadata": {},
     "source": [
      "# Examining the Results\n",
      "\n",
      "The top features (i.e., OTUs) selected by Fizzy are saved in `results.txt`. With a little bit of `sed` magic we can get a nice readable output.  "
     ]
    },
    {
     "cell_type": "code",
     "collapsed": false,
     "input": [
      "import json \n",
      "obj = json.loads(open(\"results.txt\", \"rb\").read())\n",
      "for feature in obj[\"Features\"]:\n",
      "    print feature"
     ],
     "language": "python",
     "metadata": {},
     "outputs": [
      {
       "output_type": "stream",
       "stream": "stdout",
       "text": [
        "k__Bacteria,p__Bacteroidetes,c__Bacteroidia,o__Bacteroidales,f__Bacteroidaceae,g__Bacteroides,s__\n",
        "k__Bacteria,p__Bacteroidetes,c__Bacteroidia,o__Bacteroidales,f__Bacteroidaceae,g__Bacteroides,s__Bacteroidesdorei\n",
        "k__Bacteria,p__Bacteroidetes,c__Bacteroidia,o__Bacteroidales,f__Bacteroidaceae,g__Bacteroides,s__\n",
        "k__Bacteria,p__Bacteroidetes,c__Bacteroidia,o__Bacteroidales,f__Bacteroidaceae,g__Bacteroides,s__Bacteroidesuniformis\n",
        "k__Bacteria,p__Bacteroidetes,c__Bacteroidia,o__Bacteroidales,f__Bacteroidaceae,g__Bacteroides,s__Bacteroidessalyersiae\n",
        "k__Bacteria,p__Firmicutes,c__Clostridia,o__Clostridiales,f__Ruminococcaceae,g__,s__\n",
        "k__Bacteria,p__Bacteroidetes,c__Bacteroidia,o__Bacteroidales,f__Bacteroidaceae,g__Bacteroides,s__\n",
        "k__Bacteria,p__Bacteroidetes,c__Bacteroidia,o__Bacteroidales,f__Bacteroidaceae,g__Bacteroides,s__\n",
        "k__Bacteria,p__Firmicutes,c__Clostridia,o__Clostridiales,f__Ruminococcaceae,g__,s__\n",
        "k__Bacteria,p__Bacteroidetes,c__Bacteroidia,o__Bacteroidales,f__Rikenellaceae,g__Alistipes,s__Alistipesputredinis\n",
        "k__Bacteria,p__Firmicutes,c__Clostridia,o__Clostridiales,f__Lachnospiraceae,g__,s__\n",
        "k__Bacteria,p__Bacteroidetes,c__Bacteroidia,o__Bacteroidales,f__Porphyromonadaceae,g__Parabacteroides,s__Parabacteroidesjohnsonii\n",
        "k__Bacteria,p__Bacteroidetes,c__Bacteroidia,o__Bacteroidales,f__Bacteroidaceae,g__Bacteroides,s__\n",
        "k__Bacteria,p__Firmicutes,c__Clostridia,o__Clostridiales,f__Ruminococcaceae,g__Faecalibacterium,s__\n",
        "k__Bacteria,p__Firmicutes,c__Clostridia,o__Clostridiales,f__Ruminococcaceae,g__,s__\n",
        "k__Bacteria,p__Firmicutes,c__Clostridia,o__Clostridiales,f__Ruminococcaceae,g__,s__\n",
        "k__Bacteria,p__Bacteroidetes,c__Bacteroidia,o__Bacteroidales,f__Bacteroidaceae,g__Bacteroides,s__\n",
        "k__Bacteria,p__Bacteroidetes,c__Bacteroidia,o__Bacteroidales,f__Porphyromonadaceae,g__Parabacteroides,s__Parabacteroidesdistasonis\n",
        "k__Bacteria,p__Firmicutes,c__Clostridia,o__Clostridiales,f__Ruminococcaceae,g__,s__\n",
        "k__Bacteria,p__Bacteroidetes,c__Bacteroidia,o__Bacteroidales,f__Rikenellaceae,g__,s__\n",
        "k__Bacteria,p__Firmicutes,c__Clostridia,o__Clostridiales,f__Ruminococcaceae,g__,s__\n",
        "k__Bacteria,p__Firmicutes,c__Clostridia,o__Clostridiales,f__Ruminococcaceae,g__,s__\n",
        "k__Bacteria,p__Bacteroidetes,c__Bacteroidia,o__Bacteroidales,f__Porphyromonadaceae,g__Parabacteroides,s__Parabacteroidesdistasonis\n",
        "k__Bacteria,p__Firmicutes,c__Clostridia,o__Clostridiales,f__Ruminococcaceae,g__Ruminococcus,s__\n",
        "k__Bacteria,p__Verrucomicrobia,c__Verrucomicrobiae,o__Verrucomicrobiales,f__Verrucomicrobiaceae,g__Akkermansia,s__Akkermansiamuciniphila\n"
       ]
      }
     ],
     "prompt_number": 3
    },
    {
     "cell_type": "code",
     "collapsed": false,
     "input": [
      "for i in range(len(obj[\"Features\"])):\n",
      "    print \"Male: \" + str(obj[\"male\"][i]) + \"; Female: \" + str(obj[\"female\"][i])"
     ],
     "language": "python",
     "metadata": {},
     "outputs": [
      {
       "output_type": "stream",
       "stream": "stdout",
       "text": [
        "Male: 1592.24404762; Female: 11240.4961832\n",
        "Male: 8060.66369048; Female: 386.366412214\n",
        "Male: 2896.37202381; Female: 4622.47328244\n",
        "Male: 4344.76190476; Female: 2298.7480916\n",
        "Male: 283.949404762; Female: 0.0381679389313\n",
        "Male: 274.514880952; Female: 0.0152671755725\n",
        "Male: 1.01785714286; Female: 23.0458015267\n",
        "Male: 1601.97321429; Female: 921.580152672\n",
        "Male: 102.494047619; Female: 0.0152671755725\n",
        "Male: 925.416666667; Female: 9.91603053435\n",
        "Male: 0.0119047619048; Female: 10.213740458\n",
        "Male: 215.839285714; Female: 0.30534351145\n",
        "Male: 2585.05357143; Female: 1.50381679389\n",
        "Male: 1461.35714286; Female: 729.633587786\n",
        "Male: 253.467261905; Female: 0.0687022900763\n",
        "Male: 13.0238095238; Female: 0.0\n",
        "Male: 61.7172619048; Female: 0.572519083969\n",
        "Male: 653.523809524; Female: 0.18320610687\n",
        "Male: 258.172619048; Female: 0.0381679389313\n",
        "Male: 24.4791666667; Female: 0.0\n",
        "Male: 36.2291666667; Female: 0.0152671755725\n",
        "Male: 55.2827380952; Female: 0.00763358778626\n",
        "Male: 344.875; Female: 0.106870229008\n",
        "Male: 1.47321428571; Female: 68.9923664122\n",
        "Male: 565.693452381; Female: 3933.89312977\n"
       ]
      }
     ],
     "prompt_number": 16
    },
    {
     "cell_type": "code",
     "collapsed": false,
     "input": [],
     "language": "python",
     "metadata": {},
     "outputs": []
    }
   ],
   "metadata": {}
  }
 ]
}